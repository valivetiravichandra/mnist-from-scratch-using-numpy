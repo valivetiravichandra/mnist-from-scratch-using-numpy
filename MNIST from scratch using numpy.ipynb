{
 "cells": [
  {
   "cell_type": "markdown",
   "metadata": {},
   "source": [
    "# MNIST using numpy from scratch"
   ]
  },
  {
   "cell_type": "code",
   "execution_count": 1,
   "metadata": {},
   "outputs": [
    {
     "name": "stdout",
     "output_type": "stream",
     "text": [
      "Extracting MNIST_data\\train-images-idx3-ubyte.gz\n",
      "Extracting MNIST_data\\train-labels-idx1-ubyte.gz\n",
      "Extracting MNIST_data\\t10k-images-idx3-ubyte.gz\n",
      "Extracting MNIST_data\\t10k-labels-idx1-ubyte.gz\n",
      "train X shape (55000, 784)\n",
      "test X shape (10000, 784)\n",
      "train y shape (55000,)\n",
      "test y shape (10000,)\n",
      "validation x shape (5000, 784)\n",
      "validation y shape (5000,)\n"
     ]
    }
   ],
   "source": [
    "import numpy as np\n",
    "import matplotlib.pyplot as plt\n",
    "import pandas as pd\n",
    "from tensorflow.examples.tutorials.mnist import input_data\n",
    "mnist = input_data.read_data_sets('MNIST_data')\n",
    "\n",
    "print(\"train X shape\",mnist.train.images.shape)\n",
    "print(\"test X shape\",mnist.test.images.shape)\n",
    "print(\"train y shape\",mnist.train.labels.shape)\n",
    "print(\"test y shape\",mnist.test.labels.shape)\n",
    "print(\"validation x shape\",mnist.validation.images.shape)\n",
    "print(\"validation y shape\",mnist.validation.labels.shape)"
   ]
  },
  {
   "cell_type": "code",
   "execution_count": 86,
   "metadata": {
    "collapsed": true
   },
   "outputs": [],
   "source": [
    "class NeuralNetwork(object):\n",
    "    def __init__(self, input_nodes, hidden_nodes, output_nodes, learning_rate):\n",
    "        # Set number of nodes in input, hidden and output layers.\n",
    "        self.input_nodes = input_nodes\n",
    "        self.hidden_nodes = hidden_nodes\n",
    "        self.output_nodes = output_nodes\n",
    "         # Initialize weights\n",
    "        self.weights_input_to_hidden = 0.01 * np.random.randn(input_nodes,hidden_nodes)\n",
    "\n",
    "        self.weights_hidden_to_output = 0.01 * np.random.randn(hidden_nodes,output_nodes)\n",
    "        \n",
    "        # Learning rate\n",
    "        self.lr = learning_rate\n",
    "        # Regularization strength\n",
    "        self.reg = 0\n",
    "        \n",
    "    def train(self, features, targets):\n",
    "        # Total n.o of records\n",
    "        num_examples=features.shape[0]\n",
    "        \n",
    "        # Forward propagation\n",
    "        hidden_input = np.dot(features,self.weights_input_to_hidden) # Hidden input np.dot(X,w_i_h)\n",
    "        hidden_output=np.maximum(0,hidden_input) # Hidden output is relu of hidden input\n",
    "       \n",
    "        final_input = np.dot(hidden_output,self.weights_hidden_to_output) # final input is hidden_outputs x weights_h_o\n",
    "        exp_scores = np.exp(final_input) \n",
    "        final_output = exp_scores / np.sum(exp_scores, axis=1, keepdims=True) # final output is softmax(final_input)  \n",
    "        \n",
    "        # Loss calculation cross entropy loss(-ylog(y^))\n",
    "        log_probs = -np.log(final_output[range(num_examples),targets]) \n",
    "        \n",
    "        # Mean of loss\n",
    "        data_loss = np.sum(log_probs)/num_examples \n",
    "        \n",
    "        # Regularization loss\n",
    "        reg_loss = 0.5*self.reg*np.sum(self.weights_input_to_hidden*self.weights_input_to_hidden) + 0.5*self.reg*np.sum(self.weights_hidden_to_output*self.weights_hidden_to_output)\n",
    "        \n",
    "        # Total loss\n",
    "        loss = data_loss + reg_loss \n",
    "        \n",
    "        \n",
    "        # Backpropagation\n",
    "        # Error at output(Softmax) (y_predicted - target) or (Yi - Ti)\n",
    "        error = final_output\n",
    "        error[range(num_examples),targets] -= 1\n",
    "        error /= num_examples\n",
    "        \n",
    "        delta_weights_hidden_to_output = np.dot(hidden_output.T, error) # output error term\n",
    "        delta_weights_input_to_hidden = np.dot(error, self.weights_hidden_to_output.T) # hidden error\n",
    "        delta_weights_input_to_hidden[hidden_output <= 0] = 0 # relu gradient\n",
    "        delta_weights_input_to_hidden = np.dot(features.T, delta_weights_input_to_hidden) # hidden error term\n",
    "        \n",
    "        \n",
    "        delta_weights_hidden_to_output += self.reg * self.weights_hidden_to_output # Regularization step\n",
    "        delta_weights_input_to_hidden += self.reg * self.weights_input_to_hidden # Regularization step\n",
    "        \n",
    "        self.weights_input_to_hidden += -self.lr * delta_weights_input_to_hidden # update weights input to hidden\n",
    "        self.weights_hidden_to_output += -self.lr * delta_weights_hidden_to_output # update weights hidden to output\n",
    "        return loss\n",
    "        \n",
    "    def run(self,X,y):\n",
    "        hidden_layer = np.maximum(0, np.dot(X, self.weights_input_to_hidden))\n",
    "        scores = np.dot(hidden_layer, self.weights_hidden_to_output)\n",
    "        predicted_class = np.argmax(scores, axis=1)\n",
    "        return np.mean(predicted_class == y)"
   ]
  },
  {
   "cell_type": "code",
   "execution_count": 92,
   "metadata": {},
   "outputs": [],
   "source": [
    "losses = {'train':[],'train_accuracy':[],'test_accuracy':[],'validation_accuracy':[]}"
   ]
  },
  {
   "cell_type": "code",
   "execution_count": 93,
   "metadata": {
    "collapsed": true
   },
   "outputs": [],
   "source": [
    "X_train=pd.DataFrame(mnist.train.images)\n",
    "y_train=pd.DataFrame(mnist.train.labels)"
   ]
  },
  {
   "cell_type": "code",
   "execution_count": 94,
   "metadata": {},
   "outputs": [
    {
     "name": "stdout",
     "output_type": "stream",
     "text": [
      "interation 0 --loss 2.302319 -- train accuracy:0.16 ----test accuracy: 0.17 ---- validation accuracy: 0.17\n",
      "interation 10 --loss 2.291347 -- train accuracy:0.42 ----test accuracy: 0.43 ---- validation accuracy: 0.42\n",
      "interation 20 --loss 2.271566 -- train accuracy:0.46 ----test accuracy: 0.47 ---- validation accuracy: 0.46\n",
      "interation 30 --loss 2.230237 -- train accuracy:0.47 ----test accuracy: 0.47 ---- validation accuracy: 0.47\n",
      "interation 40 --loss 2.147277 -- train accuracy:0.52 ----test accuracy: 0.52 ---- validation accuracy: 0.52\n",
      "interation 50 --loss 1.999042 -- train accuracy:0.62 ----test accuracy: 0.61 ---- validation accuracy: 0.62\n",
      "interation 60 --loss 1.775215 -- train accuracy:0.68 ----test accuracy: 0.68 ---- validation accuracy: 0.69\n",
      "interation 70 --loss 1.512310 -- train accuracy:0.70 ----test accuracy: 0.71 ---- validation accuracy: 0.70\n",
      "interation 80 --loss 1.276796 -- train accuracy:0.72 ----test accuracy: 0.73 ---- validation accuracy: 0.72\n",
      "interation 90 --loss 1.096460 -- train accuracy:0.75 ----test accuracy: 0.76 ---- validation accuracy: 0.75\n",
      "interation 100 --loss 0.963245 -- train accuracy:0.78 ----test accuracy: 0.78 ---- validation accuracy: 0.78\n",
      "interation 110 --loss 0.863337 -- train accuracy:0.79 ----test accuracy: 0.80 ---- validation accuracy: 0.80\n",
      "interation 120 --loss 0.786552 -- train accuracy:0.81 ----test accuracy: 0.81 ---- validation accuracy: 0.81\n",
      "interation 130 --loss 0.726181 -- train accuracy:0.82 ----test accuracy: 0.83 ---- validation accuracy: 0.83\n",
      "interation 140 --loss 0.677762 -- train accuracy:0.83 ----test accuracy: 0.84 ---- validation accuracy: 0.84\n",
      "interation 150 --loss 0.638235 -- train accuracy:0.84 ----test accuracy: 0.84 ---- validation accuracy: 0.84\n",
      "interation 160 --loss 0.605441 -- train accuracy:0.84 ----test accuracy: 0.85 ---- validation accuracy: 0.85\n",
      "interation 170 --loss 0.577832 -- train accuracy:0.85 ----test accuracy: 0.86 ---- validation accuracy: 0.86\n",
      "interation 180 --loss 0.554281 -- train accuracy:0.86 ----test accuracy: 0.86 ---- validation accuracy: 0.86\n",
      "interation 190 --loss 0.533959 -- train accuracy:0.86 ----test accuracy: 0.87 ---- validation accuracy: 0.87\n"
     ]
    }
   ],
   "source": [
    "network = NeuralNetwork(784, 100, 10, 0.1)\n",
    "for ii in range(200):     \n",
    "    loss = network.train(mnist.train.images, mnist.train.labels)\n",
    "    train_accuracy=network.run(mnist.train.images,mnist.train.labels)\n",
    "    test_accuracy=network.run(mnist.test.images,mnist.test.labels)\n",
    "    validation_accuracy=network.run(mnist.validation.images,mnist.validation.labels)\n",
    "    losses['train'].append(loss)\n",
    "    losses['train_accuracy'].append(train_accuracy)\n",
    "    losses['test_accuracy'].append(test_accuracy)\n",
    "    losses['validation_accuracy'].append(validation_accuracy)\n",
    "    if ii % 10 ==0:\n",
    "        print('interation %d --loss %f -- train accuracy:%.2f ----test accuracy: %.2f ---- validation accuracy: %.2f' % (ii,loss,train_accuracy,test_accuracy,validation_accuracy))"
   ]
  },
  {
   "cell_type": "code",
   "execution_count": 99,
   "metadata": {},
   "outputs": [
    {
     "data": {
      "image/png": "[encoded data removed]",
      "text/plain": [
       "<matplotlib.figure.Figure at 0x17c0dcc15f8>"
      ]
     },
     "metadata": {},
     "output_type": "display_data"
    }
   ],
   "source": [
    "import matplotlib.pyplot as plt\n",
    "plt.rc('figure', figsize=(12, 5))\n",
    "plt.plot(losses['train'], label='Training loss')\n",
    "plt.plot(losses['validation_accuracy'], label='Validation accuracy')\n",
    "plt.plot(losses['train_accuracy'], label='train accuracy')\n",
    "plt.plot(losses['test_accuracy'], label='test accuracy')\n",
    "plt.legend()\n",
    "plt.show()"
   ]
  },
  {
   "cell_type": "code",
   "execution_count": null,
   "metadata": {
    "collapsed": true
   },
   "outputs": [],
   "source": []
  }
 ],
 "metadata": {
  "kernelspec": {
   "display_name": "Python 3",
   "language": "python",
   "name": "python3"
  },
  "language_info": {
   "codemirror_mode": {
    "name": "ipython",
    "version": 3
   },
   "file_extension": ".py",
   "mimetype": "text/x-python",
   "name": "python",
   "nbconvert_exporter": "python",
   "pygments_lexer": "ipython3",
   "version": "3.6.3"
  }
 },
 "nbformat": 4,
 "nbformat_minor": 2
}
